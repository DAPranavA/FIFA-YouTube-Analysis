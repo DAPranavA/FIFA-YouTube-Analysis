{
 "cells": [
  {
   "cell_type": "code",
   "execution_count": 1657,
   "id": "aa7f4690-cfeb-4a16-b9b6-fb2df4e53e72",
   "metadata": {},
   "outputs": [],
   "source": [
    "#import libraries\n",
    "import requests\n",
    "import pandas as pd\n",
    "import time\n",
    "import isodate"
   ]
  },
  {
   "cell_type": "code",
   "execution_count": null,
   "id": "358da769-bab2-4957-b9c7-f4098f22ae99",
   "metadata": {},
   "outputs": [],
   "source": []
  },
  {
   "cell_type": "code",
   "execution_count": 1658,
   "id": "4be4b8c5-a3a5-46a2-a056-039ad9a0262e",
   "metadata": {
    "tags": []
   },
   "outputs": [],
   "source": [
    "#keys\n",
    "API_KEY = \"API KEY\"\n",
    "#NepentheZ\n",
    "CHANNEL_ID= \"UCkaUtMpy3DU0L-q28pD62Ig\"\n"
   ]
  },
  {
   "cell_type": "code",
   "execution_count": 1659,
   "id": "1fdbd17b-6a19-4a10-933d-f4195a2863af",
   "metadata": {},
   "outputs": [],
   "source": [
    "df = pd.DataFrame(columns=[\"video_id\",\"video_title\",\"upload_date\",\"view_count\",\"like_count\",\"comment_count\",\"duration\", \"caption\",\"channel_statistics\", \"channel_views\", \"channel_subscribers\", \"video_caption\", \"comment_text\"])\n",
    "\n"
   ]
  },
  {
   "cell_type": "code",
   "execution_count": 1660,
   "id": "1ff5ea66-ce55-480d-8782-12e41677b365",
   "metadata": {},
   "outputs": [],
   "source": [
    "def get_video_details(video_id):\n",
    "    #statistics\n",
    "    #collecting view, like, dislike, comment counts\n",
    "        \n",
    "    url_video_stats = \"https://www.googleapis.com/youtube/v3/videos?id=\"+video_id+\"&part=statistics&key=\"+API_KEY\n",
    "    response_video_stats = requests.get(url_video_stats).json()\n",
    "        \n",
    "    view_count = response_video_stats['items'][0]['statistics']['viewCount']\n",
    "    like_count = response_video_stats['items'][0]['statistics']['likeCount']\n",
    "    #dislike_count = response_video_stats['items'][0]['statistics']['dislikeCount']\n",
    "    comment_count = response_video_stats['items'][0]['statistics']['commentCount']        \n",
    "    \n",
    "    return view_count, like_count, comment_count"
   ]
  },
  {
   "cell_type": "code",
   "execution_count": 1661,
   "id": "e24e4cbf-7866-48c1-8439-7aeec81f847b",
   "metadata": {},
   "outputs": [],
   "source": [
    "def get_video_details_2(video_id):\n",
    "    #contentDetails\n",
    "    #collecting duration\n",
    "        \n",
    "    url_video_stats_2 = \"https://www.googleapis.com/youtube/v3/videos?id=\"+video_id+\"&part=contentDetails&key=\"+API_KEY\n",
    "    response_video_stats_2 = requests.get(url_video_stats_2).json()\n",
    "        \n",
    "    duration_1 = response_video_stats_2['items'][0]['contentDetails']['duration']\n",
    "    td = isodate.parse_duration(duration_1)\n",
    "    duration = td.total_seconds() / 60\n",
    "    caption = response_video_stats_2['items'][0]['contentDetails']['caption']\n",
    "    \n",
    "    return duration, caption"
   ]
  },
  {
   "cell_type": "code",
   "execution_count": 1662,
   "id": "3209daab-daa9-43b6-b22d-e10cf7c1891a",
   "metadata": {},
   "outputs": [],
   "source": [
    "def get_video_details_3(video_id):\n",
    "    url_3 = \"https://www.googleapis.com/youtube/v3/channels?part=statistics&id=\"+CHANNEL_ID+\"&key=\"+API_KEY\n",
    "    response_3 = requests.get(url_3).json()\n",
    "\n",
    "    channel_statistics = response_3[\"items\"][0][\"statistics\"]\n",
    "    channel_views = channel_statistics[\"viewCount\"]\n",
    "    channel_subscribers = channel_statistics[\"subscriberCount\"]\n",
    "\n",
    "    #print(f\"Channel views: {channel_views}\")\n",
    "    #print(f\"Channel subscribers: {channel_subscribers}\")\n",
    "    \n",
    "    return channel_statistics, channel_views, channel_subscribers\n",
    "    "
   ]
  },
  {
   "cell_type": "code",
   "execution_count": 1663,
   "id": "b4d961bc-b5af-419d-9f04-b83f1adc7eff",
   "metadata": {},
   "outputs": [],
   "source": [
    "def get_video_details_4(video_id):\n",
    "    # Get video caption/description\n",
    "    url_4 = \"https://www.googleapis.com/youtube/v3/videos?part=snippet&id=\"+video_id+\"&key=\"+API_KEY\n",
    "    response_4 = requests.get(url_4).json()\n",
    "\n",
    "    video_caption = response_4[\"items\"][0][\"snippet\"][\"description\"]\n",
    "\n",
    "    #print(f\"Video caption: {video_caption}\")\n",
    "\n",
    "    # Get video comments\n",
    "    url_4_1 = \"https://www.googleapis.com/youtube/v3/commentThreads?part=snippet&videoId=\"+video_id+\"&key=\"+API_KEY\n",
    "    response_4_1 = requests.get(url_4_1).json()\n",
    "    comment_text = \"\"\n",
    "    for item in response_4_1[\"items\"]:\n",
    "        comment_text = item[\"snippet\"][\"topLevelComment\"][\"snippet\"][\"textDisplay\"]\n",
    "        #print(f\"Comment: {comment_text}\")\n",
    "    \n",
    "    return video_caption, comment_text"
   ]
  },
  {
   "cell_type": "code",
   "execution_count": 1664,
   "id": "66538d96-3f71-4196-980a-6bb02ea2672b",
   "metadata": {},
   "outputs": [],
   "source": [
    "def get_videos(df):\n",
    "    #make API call\n",
    "\n",
    "    pageToken= \"\"\n",
    "    # Set publishedAfter and publishedBefore values for February 2022\n",
    "    publishedAfter = \"2022-12-01T00:00:00Z\"\n",
    "    publishedBefore = \"2022-12-02T00:00:00Z\"\n",
    "    url=\"https://www.googleapis.com/youtube/v3/search?key=\"+API_KEY+\"&channelId=\"+CHANNEL_ID+\"&part=snippet,id&order=date&maxResults=10000&publishedAfter=\"+publishedAfter+\"&publishedBefore=\"+publishedBefore\n",
    "\n",
    "    response = requests.get(url).json()\n",
    "    time.sleep(1)\n",
    "    #print(\"response:\", response)\n",
    "    print(\"pageToken:\", pageToken)\n",
    "\n",
    "\n",
    "    for video in response['items']:\n",
    "        if video['id']['kind'] == \"youtube#video\":\n",
    "            video_id = video['id']['videoId']\n",
    "            video_title = video['snippet']['title']\n",
    "            video_title = str(video_title).replace(\"&amp;\",\"\")\n",
    "            upload_date = video['snippet']['publishedAt']\n",
    "            upload_date = str(upload_date).split(\"T\")[0]\n",
    "        \n",
    "            view_count, like_count, comment_count = get_video_details(video_id)\n",
    "            duration, caption = get_video_details_2(video_id)\n",
    "            channel_statistics, channel_views, channel_subscribers = get_video_details_3(video_id)\n",
    "            video_caption, comment_text = get_video_details_4(video_id)\n",
    "            \n",
    "            #channel_statistics, channel_views, channel_subscribers, video_caption, comment_text\n",
    "        \n",
    "            #save data in pandas df\n",
    "            df = df.append({'video_id':video_id,'video_title':video_title,'upload_date':upload_date,'view_count':view_count,'like_count':like_count,'comment_count':comment_count, 'duration':duration, 'caption':caption, 'channel_statistics':channel_statistics, 'channel_views':channel_views, 'channel_subscribers':channel_subscribers, 'video_caption':video_caption, 'comment_text':comment_text},ignore_index=True)\n",
    "            #df = df.append({'video_id':video_id,'video_title':video_title,'upload_date':upload_date,'view_count':view_count,'like_count':like_count,'comment_count':comment_count},ignore_index=True)\n",
    "            \n",
    "    return df"
   ]
  },
  {
   "cell_type": "code",
   "execution_count": null,
   "id": "8492bbdc-7f8b-4191-8f0c-0036828239bf",
   "metadata": {},
   "outputs": [],
   "source": []
  },
  {
   "cell_type": "code",
   "execution_count": 1665,
   "id": "59596e7e-7bc6-48bc-9af9-43ecd8f7d3e8",
   "metadata": {},
   "outputs": [
    {
     "name": "stdout",
     "output_type": "stream",
     "text": [
      "pageToken: \n"
     ]
    },
    {
     "name": "stderr",
     "output_type": "stream",
     "text": [
      "C:\\temp\\ipykernel_19644\\573801937.py:32: FutureWarning: The frame.append method is deprecated and will be removed from pandas in a future version. Use pandas.concat instead.\n",
      "  df = df.append({'video_id':video_id,'video_title':video_title,'upload_date':upload_date,'view_count':view_count,'like_count':like_count,'comment_count':comment_count, 'duration':duration, 'caption':caption, 'channel_statistics':channel_statistics, 'channel_views':channel_views, 'channel_subscribers':channel_subscribers, 'video_caption':video_caption, 'comment_text':comment_text},ignore_index=True)\n",
      "C:\\temp\\ipykernel_19644\\573801937.py:32: FutureWarning: The frame.append method is deprecated and will be removed from pandas in a future version. Use pandas.concat instead.\n",
      "  df = df.append({'video_id':video_id,'video_title':video_title,'upload_date':upload_date,'view_count':view_count,'like_count':like_count,'comment_count':comment_count, 'duration':duration, 'caption':caption, 'channel_statistics':channel_statistics, 'channel_views':channel_views, 'channel_subscribers':channel_subscribers, 'video_caption':video_caption, 'comment_text':comment_text},ignore_index=True)\n"
     ]
    }
   ],
   "source": [
    "#main\n",
    "\n",
    "#build dataframe\n",
    "\n",
    "#df = pd.DataFrame(columns=[\"video_id\",\"video_title\",\"upload_date\",\"view_count\",\"like_count\",\"dislike_count\",\"comment_count\"])\n",
    "df = pd.DataFrame(columns=[\"video_id\",\"video_title\",\"upload_date\",\"view_count\",\"like_count\",\"comment_count\",\"duration\", \"caption\", \"channel_statistics\", \"channel_views\", \"channel_subscribers\", \"video_caption\", \"comment_text\"])\n",
    "\n",
    "df = get_videos(df)\n",
    "\n"
   ]
  },
  {
   "cell_type": "code",
   "execution_count": 1666,
   "id": "748b0823-d463-4206-8d4f-12225eea7531",
   "metadata": {},
   "outputs": [
    {
     "data": {
      "text/html": [
       "<div>\n",
       "<style scoped>\n",
       "    .dataframe tbody tr th:only-of-type {\n",
       "        vertical-align: middle;\n",
       "    }\n",
       "\n",
       "    .dataframe tbody tr th {\n",
       "        vertical-align: top;\n",
       "    }\n",
       "\n",
       "    .dataframe thead th {\n",
       "        text-align: right;\n",
       "    }\n",
       "</style>\n",
       "<table border=\"1\" class=\"dataframe\">\n",
       "  <thead>\n",
       "    <tr style=\"text-align: right;\">\n",
       "      <th></th>\n",
       "      <th>video_id</th>\n",
       "      <th>video_title</th>\n",
       "      <th>upload_date</th>\n",
       "      <th>view_count</th>\n",
       "      <th>like_count</th>\n",
       "      <th>comment_count</th>\n",
       "      <th>duration</th>\n",
       "      <th>caption</th>\n",
       "      <th>channel_statistics</th>\n",
       "      <th>channel_views</th>\n",
       "      <th>channel_subscribers</th>\n",
       "      <th>video_caption</th>\n",
       "      <th>comment_text</th>\n",
       "    </tr>\n",
       "  </thead>\n",
       "  <tbody>\n",
       "    <tr>\n",
       "      <th>0</th>\n",
       "      <td>hLd8h__Vlyg</td>\n",
       "      <td>Dear EA Sports.....</td>\n",
       "      <td>2022-12-01</td>\n",
       "      <td>88904</td>\n",
       "      <td>4537</td>\n",
       "      <td>746</td>\n",
       "      <td>8.016667</td>\n",
       "      <td>false</td>\n",
       "      <td>{'viewCount': '947625418', 'subscriberCount': ...</td>\n",
       "      <td>947625418</td>\n",
       "      <td>1960000</td>\n",
       "      <td>Dear EA Sports.....\\n\\nI got a little bit stre...</td>\n",
       "      <td>I’ve stopped playing after swaps</td>\n",
       "    </tr>\n",
       "    <tr>\n",
       "      <th>1</th>\n",
       "      <td>aV-dVjUyLRA</td>\n",
       "      <td>EA are REFUSING to give us content!</td>\n",
       "      <td>2022-12-01</td>\n",
       "      <td>43620</td>\n",
       "      <td>1359</td>\n",
       "      <td>258</td>\n",
       "      <td>3.95</td>\n",
       "      <td>false</td>\n",
       "      <td>{'viewCount': '947625418', 'subscriberCount': ...</td>\n",
       "      <td>947625418</td>\n",
       "      <td>1960000</td>\n",
       "      <td>►► ROAD TO GLORY CHANNEL : https://www.youtube...</td>\n",
       "      <td>Fifa getting the madden treatment, RIP</td>\n",
       "    </tr>\n",
       "  </tbody>\n",
       "</table>\n",
       "</div>"
      ],
      "text/plain": [
       "      video_id                          video_title upload_date view_count  \\\n",
       "0  hLd8h__Vlyg                  Dear EA Sports.....  2022-12-01      88904   \n",
       "1  aV-dVjUyLRA  EA are REFUSING to give us content!  2022-12-01      43620   \n",
       "\n",
       "  like_count comment_count  duration caption  \\\n",
       "0       4537           746  8.016667   false   \n",
       "1       1359           258      3.95   false   \n",
       "\n",
       "                                  channel_statistics channel_views  \\\n",
       "0  {'viewCount': '947625418', 'subscriberCount': ...     947625418   \n",
       "1  {'viewCount': '947625418', 'subscriberCount': ...     947625418   \n",
       "\n",
       "  channel_subscribers                                      video_caption  \\\n",
       "0             1960000  Dear EA Sports.....\\n\\nI got a little bit stre...   \n",
       "1             1960000  ►► ROAD TO GLORY CHANNEL : https://www.youtube...   \n",
       "\n",
       "                             comment_text  \n",
       "0        I’ve stopped playing after swaps  \n",
       "1  Fifa getting the madden treatment, RIP  "
      ]
     },
     "execution_count": 1666,
     "metadata": {},
     "output_type": "execute_result"
    }
   ],
   "source": [
    "df"
   ]
  },
  {
   "cell_type": "code",
   "execution_count": 1667,
   "id": "7e0dc2af-95d1-487b-93c5-7499696af7d1",
   "metadata": {},
   "outputs": [
    {
     "data": {
      "text/plain": [
       "'\\nStreamers\\nChannel ID\\nDJMaRiio\\nUCi7TVXyvrIwqeS9tfYD8UDA\\nMattHDGamer\\nUCCdv8O4SIcISvAW94XdZTEw\\nManny\\nUC1crUC35Gk-U_-rv5sM4PtA\\nAA9Skillz\\nUCL7vy7MDOq9-tE-r6taQBlw\\nTBJZLPlays\\nUCVa7nsA_blpxzmfZWTPEsLQ\\nAJ3\\nUC9QqBypELbqUVlsg4zMrN0Q\\nTWOSYNC\\nUC8vXGfLggx4CAFsr2i0IoRA\\nBateson87\\nUCJ47W_WzuzbHaONWB5a9i7w\\nBFordLancer\\nUCNWgHP_0lBoB8QqECjZTgoQ\\nZwebackHD\\nUCgAkZwAyzJTguJtpSPYCejw\\nMasterbucks\\nUCihU6D2FXrJ4Mxji4dWNSeg\\nHecticTKS\\nUCstCY_VEmzH80BgCIo24cHA\\n'"
      ]
     },
     "execution_count": 1667,
     "metadata": {},
     "output_type": "execute_result"
    }
   ],
   "source": [
    "\n",
    "'''\n",
    "Streamers\n",
    "Channel ID\n",
    "DJMaRiio\n",
    "UCi7TVXyvrIwqeS9tfYD8UDA\n",
    "MattHDGamer\n",
    "UCCdv8O4SIcISvAW94XdZTEw\n",
    "Manny\n",
    "UC1crUC35Gk-U_-rv5sM4PtA\n",
    "AA9Skillz\n",
    "UCL7vy7MDOq9-tE-r6taQBlw\n",
    "TBJZLPlays\n",
    "UCVa7nsA_blpxzmfZWTPEsLQ\n",
    "AJ3\n",
    "UC9QqBypELbqUVlsg4zMrN0Q\n",
    "TWOSYNC\n",
    "UC8vXGfLggx4CAFsr2i0IoRA\n",
    "Bateson87\n",
    "UCJ47W_WzuzbHaONWB5a9i7w\n",
    "BFordLancer\n",
    "UCNWgHP_0lBoB8QqECjZTgoQ\n",
    "ZwebackHD\n",
    "UCgAkZwAyzJTguJtpSPYCejw\n",
    "Masterbucks\n",
    "UCihU6D2FXrJ4Mxji4dWNSeg\n",
    "HecticTKS\n",
    "UCstCY_VEmzH80BgCIo24cHA\n",
    "'''\n"
   ]
  },
  {
   "cell_type": "code",
   "execution_count": 1668,
   "id": "5068ec07-b7b0-4c52-b3fb-9f7b7d6e46b7",
   "metadata": {},
   "outputs": [],
   "source": [
    "df.to_excel(r'C:\\Users\\Pranav SA\\Desktop\\E-Sports\\Assignment 1 game data\\exportdata.xlsx', index=False)\n"
   ]
  },
  {
   "cell_type": "code",
   "execution_count": 1669,
   "id": "0df2d0d5-d51f-496b-b24f-60f2d15b261d",
   "metadata": {},
   "outputs": [],
   "source": [
    "#os.system('start excel.exe \"{}\"'.format(r'C:\\Users\\Pranav SA\\Desktop\\E-Sports\\Assignment 1 game data\\exportdata.xlsx'))"
   ]
  },
  {
   "cell_type": "code",
   "execution_count": null,
   "id": "7a37c251-ded6-4682-8915-d399af52b672",
   "metadata": {},
   "outputs": [],
   "source": []
  }
 ],
 "metadata": {
  "kernelspec": {
   "display_name": "Python 3 (ipykernel)",
   "language": "python",
   "name": "python3"
  },
  "language_info": {
   "codemirror_mode": {
    "name": "ipython",
    "version": 3
   },
   "file_extension": ".py",
   "mimetype": "text/x-python",
   "name": "python",
   "nbconvert_exporter": "python",
   "pygments_lexer": "ipython3",
   "version": "3.9.12"
  }
 },
 "nbformat": 4,
 "nbformat_minor": 5
}
